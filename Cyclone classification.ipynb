{
 "cells": [
  {
   "cell_type": "code",
   "execution_count": 95,
   "metadata": {},
   "outputs": [],
   "source": [
    "import numpy as np\n",
    "import pandas as pd\n",
    "from pandas_profiling import ProfileReport\n",
    "import matplotlib.pyplot as plt\n",
    "from sklearn.ensemble import RandomForestClassifier\n",
    "from sklearn.tree import DecisionTreeClassifier\n",
    "from sklearn.model_selection import train_test_split\n",
    "from sklearn import metrics\n",
    "import seaborn as sns\n",
    "from sklearn.naive_bayes import GaussianNB,MultinomialNB,BernoulliNB\n",
    "from sklearn.svm import SVC"
   ]
  },
  {
   "cell_type": "code",
   "execution_count": 96,
   "metadata": {},
   "outputs": [],
   "source": [
    "import os"
   ]
  },
  {
   "cell_type": "code",
   "execution_count": 97,
   "metadata": {},
   "outputs": [
    {
     "data": {
      "text/plain": [
       "'C:\\\\Users\\\\hp'"
      ]
     },
     "execution_count": 97,
     "metadata": {},
     "output_type": "execute_result"
    }
   ],
   "source": [
    "os.getcwd()"
   ]
  },
  {
   "cell_type": "code",
   "execution_count": 98,
   "metadata": {},
   "outputs": [
    {
     "name": "stdout",
     "output_type": "stream",
     "text": [
      " Volume in drive C is Windows\n",
      " Volume Serial Number is 182E-1B2C\n",
      "\n",
      " Directory of C:\\Users\\hp\n",
      "\n",
      "19/06/2020  04:44 PM    <DIR>          .\n",
      "19/06/2020  04:44 PM    <DIR>          ..\n",
      "10/11/2019  10:15 PM    <DIR>          .anaconda\n",
      "22/10/2019  08:46 AM    <DIR>          .astropy\n",
      "02/02/2020  04:40 AM             1,384 .bash_history\n",
      "10/11/2019  11:15 PM    <DIR>          .conda\n",
      "10/11/2019  11:15 PM                43 .condarc\n",
      "25/02/2020  04:49 PM               191 .gitconfig\n",
      "15/06/2020  09:06 PM    <DIR>          .ipynb_checkpoints\n",
      "24/09/2019  10:30 AM    <DIR>          .ipython\n",
      "25/09/2019  08:40 AM    <DIR>          .jupyter\n",
      "16/10/2019  09:38 AM    <DIR>          .matplotlib\n",
      "02/02/2020  04:28 AM    <DIR>          .ssh\n",
      "02/02/2020  04:40 AM             1,272 .viminfo\n",
      "18/06/2020  08:19 PM    <DIR>          3D Objects\n",
      "24/09/2019  10:28 AM    <DIR>          Anaconda3\n",
      "30/10/2019  01:06 AM         4,679,408 assignment.ipynb\n",
      "22/10/2019  08:29 AM            41,967 boston-data.csv\n",
      "30/10/2019  10:10 PM             8,181 classification-data\n",
      "18/06/2020  08:19 PM    <DIR>          Contacts\n",
      "25/12/2019  08:02 PM           171,621 data_weather.csv\n",
      "16/11/2019  11:18 PM            13,410 Decision tree classifier.ipynb\n",
      "18/06/2020  08:19 PM    <DIR>          Desktop\n",
      "31/10/2019  08:27 AM            23,873 diabetes.csv\n",
      "05/11/2019  06:53 PM            88,796 diabetes_reg_data (1).csv\n",
      "28/10/2019  11:09 PM            88,796 diabetes_reg_data.csv\n",
      "16/12/2019  06:51 AM    <DIR>          digit-recognizer\n",
      "18/12/2019  09:23 AM        15,587,029 digit-recognizer.zip\n",
      "18/06/2020  08:19 PM    <DIR>          Documents\n",
      "18/06/2020  08:19 PM    <DIR>          Downloads\n",
      "06/01/2020  12:52 PM           210,769 evaluation-Pacific_test.zip\n",
      "29/10/2019  08:33 AM            16,790 exam_prime.csv\n",
      "18/06/2020  08:19 PM    <DIR>          Favorites\n",
      "21/10/2018  01:31 AM           852,480 file.avi\n",
      "22/10/2018  07:59 PM             1,844 file.BCS\n",
      "29/06/2019  01:24 PM         2,162,688 file.db\n",
      "22/10/2018  08:02 PM         2,424,832 file.dbb\n",
      "29/06/2019  01:23 PM           263,582 file.err\n",
      "22/10/2018  07:59 PM           131,072 file.esav\n",
      "22/10/2018  07:59 PM           196,608 file.full\n",
      "29/06/2019  01:24 PM            84,208 file.log\n",
      "22/10/2018  07:59 PM               737 file.mntr\n",
      "22/10/2018  07:59 PM         1,048,576 file.rst\n",
      "22/10/2018  07:59 PM               154 file.stat\n",
      "11/11/2019  09:54 AM            11,336 fun-data.csv\n",
      "03/12/2019  11:17 PM           292,290 Gradient Boosting.ipynb\n",
      "10/04/2019  12:24 PM    <DIR>          HP\n",
      "28/01/2020  01:27 PM           488,834 k means clustering.ipynb\n",
      "21/11/2019  09:31 AM           175,516 KNN.ipynb\n",
      "18/06/2020  08:19 PM    <DIR>          Links\n",
      "11/11/2019  09:33 PM           116,510 logistic.ipynb\n",
      "01/11/2019  09:45 AM            12,089 logisticdrawback.csv\n",
      "18/06/2020  08:19 PM    <DIR>          Music\n",
      "27/11/2019  09:06 AM           214,603 Naive Classifier.ipynb\n",
      "11/12/2019  07:15 PM            63,787 NLP.ipynb\n",
      "09/12/2019  09:00 AM            61,956 NLP-movie-review.csv\n",
      "19/09/2011  08:25 PM            49,152 NPProt.bkp\n",
      "19/09/2011  08:25 PM            49,152 NPProt.exe\n",
      "11/10/2019  09:21 AM            32,209 Numpy.ipynb\n",
      "15/06/2019  11:43 AM    <DIR>          OneDrive\n",
      "10/06/2019  02:03 PM         1,275,407 Pacific_test.csv\n",
      "10/06/2019  02:03 PM         1,913,283 Pacific_train.csv\n",
      "20/11/2019  10:05 PM            97,637 pandas.ipynb\n",
      "20/12/2019  09:10 AM            89,331 PCA.ipynb\n",
      "18/06/2020  08:19 PM    <DIR>          Pictures\n",
      "21/10/2019  07:16 PM           348,024 plotting.ipynb\n",
      "19/06/2020  04:44 PM            12,921 Project on Pacific Data.ipynb\n",
      "29/10/2019  12:51 AM            80,073 python prime.ipynb\n",
      "20/11/2019  09:55 PM            89,276 Random Forest.ipynb\n",
      "16/12/2019  12:31 AM            17,895 recommend system.ipynb\n",
      "19/11/2019  09:25 AM         5,373,161 regression.ipynb\n",
      "28/01/2020  11:32 AM         1,432,703 Round1_Problem2-of-3_Dataset.csv\n",
      "18/06/2020  08:19 PM    <DIR>          Saved Games\n",
      "18/10/2019  08:49 AM    <DIR>          seaborn-data\n",
      "18/06/2020  08:19 PM    <DIR>          Searches\n",
      "15/06/2020  09:02 PM           416,646 Step 1.ipynb\n",
      "04/12/2019  08:47 AM           101,738 SVM.ipynb\n",
      "06/01/2020  12:51 PM           315,268 training-Pacific_train.zip\n",
      "24/09/2019  10:34 AM               555 Untitled.ipynb\n",
      "26/09/2019  08:45 AM               555 Untitled1.ipynb\n",
      "26/09/2019  08:45 AM               555 Untitled2.ipynb\n",
      "04/10/2019  09:28 AM               555 Untitled3.ipynb\n",
      "21/12/2019  04:40 PM             1,497 Untitled4.ipynb\n",
      "21/12/2019  09:34 PM             2,362 Untitled5.ipynb\n",
      "25/12/2019  08:08 PM            12,234 Untitled6.ipynb\n",
      "28/01/2020  06:02 PM           280,671 Untitled7.ipynb\n",
      "10/06/2020  08:34 PM             1,242 Untitled8.ipynb\n",
      "11/06/2020  08:07 PM            16,820 Untitled9.ipynb\n",
      "18/06/2020  08:19 PM    <DIR>          Videos\n",
      "              62 File(s)     41,548,154 bytes\n",
      "              27 Dir(s)  75,820,503,040 bytes free\n"
     ]
    }
   ],
   "source": [
    "ls"
   ]
  },
  {
   "cell_type": "code",
   "execution_count": 99,
   "metadata": {},
   "outputs": [],
   "source": [
    "data_train=pd.read_csv(\"Pacific_train.csv\")\n",
    "data_test=pd.read_csv(\"Pacific_test.csv\")"
   ]
  },
  {
   "cell_type": "code",
   "execution_count": 100,
   "metadata": {
    "scrolled": true
   },
   "outputs": [
    {
     "data": {
      "text/html": [
       "<div>\n",
       "<style scoped>\n",
       "    .dataframe tbody tr th:only-of-type {\n",
       "        vertical-align: middle;\n",
       "    }\n",
       "\n",
       "    .dataframe tbody tr th {\n",
       "        vertical-align: top;\n",
       "    }\n",
       "\n",
       "    .dataframe thead th {\n",
       "        text-align: right;\n",
       "    }\n",
       "</style>\n",
       "<table border=\"1\" class=\"dataframe\">\n",
       "  <thead>\n",
       "    <tr style=\"text-align: right;\">\n",
       "      <th></th>\n",
       "      <th>ID</th>\n",
       "      <th>Name</th>\n",
       "      <th>Date</th>\n",
       "      <th>Time</th>\n",
       "      <th>Event</th>\n",
       "      <th>Status</th>\n",
       "      <th>Latitude</th>\n",
       "      <th>Longitude</th>\n",
       "      <th>Maximum Wind</th>\n",
       "      <th>Minimum Pressure</th>\n",
       "      <th>...</th>\n",
       "      <th>Low Wind SW</th>\n",
       "      <th>Low Wind NW</th>\n",
       "      <th>Moderate Wind NE</th>\n",
       "      <th>Moderate Wind SE</th>\n",
       "      <th>Moderate Wind SW</th>\n",
       "      <th>Moderate Wind NW</th>\n",
       "      <th>High Wind NE</th>\n",
       "      <th>High Wind SE</th>\n",
       "      <th>High Wind SW</th>\n",
       "      <th>High Wind NW</th>\n",
       "    </tr>\n",
       "  </thead>\n",
       "  <tbody>\n",
       "    <tr>\n",
       "      <th>0</th>\n",
       "      <td>EP101996</td>\n",
       "      <td>GENEVIEVE</td>\n",
       "      <td>19961003</td>\n",
       "      <td>0</td>\n",
       "      <td></td>\n",
       "      <td>TD</td>\n",
       "      <td>15.0N</td>\n",
       "      <td>120.0W</td>\n",
       "      <td>25</td>\n",
       "      <td>1009</td>\n",
       "      <td>...</td>\n",
       "      <td>-999</td>\n",
       "      <td>-999</td>\n",
       "      <td>-999</td>\n",
       "      <td>-999</td>\n",
       "      <td>-999</td>\n",
       "      <td>-999</td>\n",
       "      <td>-999</td>\n",
       "      <td>-999</td>\n",
       "      <td>-999</td>\n",
       "      <td>-999</td>\n",
       "    </tr>\n",
       "    <tr>\n",
       "      <th>1</th>\n",
       "      <td>EP101988</td>\n",
       "      <td>JOHN</td>\n",
       "      <td>19880817</td>\n",
       "      <td>1200</td>\n",
       "      <td></td>\n",
       "      <td>TD</td>\n",
       "      <td>18.6N</td>\n",
       "      <td>107.4W</td>\n",
       "      <td>30</td>\n",
       "      <td>1007</td>\n",
       "      <td>...</td>\n",
       "      <td>-999</td>\n",
       "      <td>-999</td>\n",
       "      <td>-999</td>\n",
       "      <td>-999</td>\n",
       "      <td>-999</td>\n",
       "      <td>-999</td>\n",
       "      <td>-999</td>\n",
       "      <td>-999</td>\n",
       "      <td>-999</td>\n",
       "      <td>-999</td>\n",
       "    </tr>\n",
       "    <tr>\n",
       "      <th>2</th>\n",
       "      <td>EP061951</td>\n",
       "      <td>UNNAMED</td>\n",
       "      <td>19510827</td>\n",
       "      <td>0</td>\n",
       "      <td></td>\n",
       "      <td>TS</td>\n",
       "      <td>22.5N</td>\n",
       "      <td>115.1W</td>\n",
       "      <td>45</td>\n",
       "      <td>-999</td>\n",
       "      <td>...</td>\n",
       "      <td>-999</td>\n",
       "      <td>-999</td>\n",
       "      <td>-999</td>\n",
       "      <td>-999</td>\n",
       "      <td>-999</td>\n",
       "      <td>-999</td>\n",
       "      <td>-999</td>\n",
       "      <td>-999</td>\n",
       "      <td>-999</td>\n",
       "      <td>-999</td>\n",
       "    </tr>\n",
       "    <tr>\n",
       "      <th>3</th>\n",
       "      <td>EP101987</td>\n",
       "      <td>JOVA</td>\n",
       "      <td>19870814</td>\n",
       "      <td>1200</td>\n",
       "      <td></td>\n",
       "      <td>TS</td>\n",
       "      <td>12.8N</td>\n",
       "      <td>122.1W</td>\n",
       "      <td>35</td>\n",
       "      <td>-999</td>\n",
       "      <td>...</td>\n",
       "      <td>-999</td>\n",
       "      <td>-999</td>\n",
       "      <td>-999</td>\n",
       "      <td>-999</td>\n",
       "      <td>-999</td>\n",
       "      <td>-999</td>\n",
       "      <td>-999</td>\n",
       "      <td>-999</td>\n",
       "      <td>-999</td>\n",
       "      <td>-999</td>\n",
       "    </tr>\n",
       "    <tr>\n",
       "      <th>4</th>\n",
       "      <td>EP142007</td>\n",
       "      <td>JULIETTE</td>\n",
       "      <td>20071004</td>\n",
       "      <td>1800</td>\n",
       "      <td></td>\n",
       "      <td>LO</td>\n",
       "      <td>22.4N</td>\n",
       "      <td>113.0W</td>\n",
       "      <td>25</td>\n",
       "      <td>1008</td>\n",
       "      <td>...</td>\n",
       "      <td>0</td>\n",
       "      <td>0</td>\n",
       "      <td>0</td>\n",
       "      <td>0</td>\n",
       "      <td>0</td>\n",
       "      <td>0</td>\n",
       "      <td>0</td>\n",
       "      <td>0</td>\n",
       "      <td>0</td>\n",
       "      <td>0</td>\n",
       "    </tr>\n",
       "  </tbody>\n",
       "</table>\n",
       "<p>5 rows × 22 columns</p>\n",
       "</div>"
      ],
      "text/plain": [
       "         ID                 Name      Date  Time Event Status Latitude  \\\n",
       "0  EP101996            GENEVIEVE  19961003     0           TD    15.0N   \n",
       "1  EP101988                 JOHN  19880817  1200           TD    18.6N   \n",
       "2  EP061951              UNNAMED  19510827     0           TS    22.5N   \n",
       "3  EP101987                 JOVA  19870814  1200           TS    12.8N   \n",
       "4  EP142007             JULIETTE  20071004  1800           LO    22.4N   \n",
       "\n",
       "  Longitude  Maximum Wind  Minimum Pressure  ...  Low Wind SW  Low Wind NW  \\\n",
       "0    120.0W            25              1009  ...         -999         -999   \n",
       "1    107.4W            30              1007  ...         -999         -999   \n",
       "2    115.1W            45              -999  ...         -999         -999   \n",
       "3    122.1W            35              -999  ...         -999         -999   \n",
       "4    113.0W            25              1008  ...            0            0   \n",
       "\n",
       "   Moderate Wind NE  Moderate Wind SE  Moderate Wind SW  Moderate Wind NW  \\\n",
       "0              -999              -999              -999              -999   \n",
       "1              -999              -999              -999              -999   \n",
       "2              -999              -999              -999              -999   \n",
       "3              -999              -999              -999              -999   \n",
       "4                 0                 0                 0                 0   \n",
       "\n",
       "   High Wind NE  High Wind SE  High Wind SW  High Wind NW  \n",
       "0          -999          -999          -999          -999  \n",
       "1          -999          -999          -999          -999  \n",
       "2          -999          -999          -999          -999  \n",
       "3          -999          -999          -999          -999  \n",
       "4             0             0             0             0  \n",
       "\n",
       "[5 rows x 22 columns]"
      ]
     },
     "execution_count": 100,
     "metadata": {},
     "output_type": "execute_result"
    }
   ],
   "source": [
    "data_train.head()"
   ]
  },
  {
   "cell_type": "code",
   "execution_count": 101,
   "metadata": {},
   "outputs": [
    {
     "data": {
      "text/html": [
       "<div>\n",
       "<style scoped>\n",
       "    .dataframe tbody tr th:only-of-type {\n",
       "        vertical-align: middle;\n",
       "    }\n",
       "\n",
       "    .dataframe tbody tr th {\n",
       "        vertical-align: top;\n",
       "    }\n",
       "\n",
       "    .dataframe thead th {\n",
       "        text-align: right;\n",
       "    }\n",
       "</style>\n",
       "<table border=\"1\" class=\"dataframe\">\n",
       "  <thead>\n",
       "    <tr style=\"text-align: right;\">\n",
       "      <th></th>\n",
       "      <th>ID</th>\n",
       "      <th>Name</th>\n",
       "      <th>Date</th>\n",
       "      <th>Time</th>\n",
       "      <th>Event</th>\n",
       "      <th>Status</th>\n",
       "      <th>Latitude</th>\n",
       "      <th>Longitude</th>\n",
       "      <th>Maximum Wind</th>\n",
       "      <th>Minimum Pressure</th>\n",
       "      <th>...</th>\n",
       "      <th>Low Wind SW</th>\n",
       "      <th>Low Wind NW</th>\n",
       "      <th>Moderate Wind NE</th>\n",
       "      <th>Moderate Wind SE</th>\n",
       "      <th>Moderate Wind SW</th>\n",
       "      <th>Moderate Wind NW</th>\n",
       "      <th>High Wind NE</th>\n",
       "      <th>High Wind SE</th>\n",
       "      <th>High Wind SW</th>\n",
       "      <th>High Wind NW</th>\n",
       "    </tr>\n",
       "  </thead>\n",
       "  <tbody>\n",
       "    <tr>\n",
       "      <th>0</th>\n",
       "      <td>EP101985</td>\n",
       "      <td>JIMENA</td>\n",
       "      <td>19850721</td>\n",
       "      <td>600</td>\n",
       "      <td></td>\n",
       "      <td>TD</td>\n",
       "      <td>12.8N</td>\n",
       "      <td>107.7W</td>\n",
       "      <td>30</td>\n",
       "      <td>-999</td>\n",
       "      <td>...</td>\n",
       "      <td>-999</td>\n",
       "      <td>-999</td>\n",
       "      <td>-999</td>\n",
       "      <td>-999</td>\n",
       "      <td>-999</td>\n",
       "      <td>-999</td>\n",
       "      <td>-999</td>\n",
       "      <td>-999</td>\n",
       "      <td>-999</td>\n",
       "      <td>-999</td>\n",
       "    </tr>\n",
       "    <tr>\n",
       "      <th>1</th>\n",
       "      <td>EP151967</td>\n",
       "      <td>PRISCILLA</td>\n",
       "      <td>19671014</td>\n",
       "      <td>1200</td>\n",
       "      <td></td>\n",
       "      <td>TS</td>\n",
       "      <td>13.4N</td>\n",
       "      <td>102.9W</td>\n",
       "      <td>45</td>\n",
       "      <td>-999</td>\n",
       "      <td>...</td>\n",
       "      <td>-999</td>\n",
       "      <td>-999</td>\n",
       "      <td>-999</td>\n",
       "      <td>-999</td>\n",
       "      <td>-999</td>\n",
       "      <td>-999</td>\n",
       "      <td>-999</td>\n",
       "      <td>-999</td>\n",
       "      <td>-999</td>\n",
       "      <td>-999</td>\n",
       "    </tr>\n",
       "    <tr>\n",
       "      <th>2</th>\n",
       "      <td>EP101996</td>\n",
       "      <td>GENEVIEVE</td>\n",
       "      <td>19961004</td>\n",
       "      <td>1800</td>\n",
       "      <td></td>\n",
       "      <td>TD</td>\n",
       "      <td>15.4N</td>\n",
       "      <td>119.5W</td>\n",
       "      <td>25</td>\n",
       "      <td>1010</td>\n",
       "      <td>...</td>\n",
       "      <td>-999</td>\n",
       "      <td>-999</td>\n",
       "      <td>-999</td>\n",
       "      <td>-999</td>\n",
       "      <td>-999</td>\n",
       "      <td>-999</td>\n",
       "      <td>-999</td>\n",
       "      <td>-999</td>\n",
       "      <td>-999</td>\n",
       "      <td>-999</td>\n",
       "    </tr>\n",
       "    <tr>\n",
       "      <th>3</th>\n",
       "      <td>CP011950</td>\n",
       "      <td>HIKI</td>\n",
       "      <td>19500815</td>\n",
       "      <td>1200</td>\n",
       "      <td></td>\n",
       "      <td>TS</td>\n",
       "      <td>21.4N</td>\n",
       "      <td>154.4W</td>\n",
       "      <td>45</td>\n",
       "      <td>-999</td>\n",
       "      <td>...</td>\n",
       "      <td>-999</td>\n",
       "      <td>-999</td>\n",
       "      <td>-999</td>\n",
       "      <td>-999</td>\n",
       "      <td>-999</td>\n",
       "      <td>-999</td>\n",
       "      <td>-999</td>\n",
       "      <td>-999</td>\n",
       "      <td>-999</td>\n",
       "      <td>-999</td>\n",
       "    </tr>\n",
       "    <tr>\n",
       "      <th>4</th>\n",
       "      <td>EP051956</td>\n",
       "      <td>UNNAMED</td>\n",
       "      <td>19560712</td>\n",
       "      <td>0</td>\n",
       "      <td></td>\n",
       "      <td>HU</td>\n",
       "      <td>20.0N</td>\n",
       "      <td>122.9W</td>\n",
       "      <td>75</td>\n",
       "      <td>-999</td>\n",
       "      <td>...</td>\n",
       "      <td>-999</td>\n",
       "      <td>-999</td>\n",
       "      <td>-999</td>\n",
       "      <td>-999</td>\n",
       "      <td>-999</td>\n",
       "      <td>-999</td>\n",
       "      <td>-999</td>\n",
       "      <td>-999</td>\n",
       "      <td>-999</td>\n",
       "      <td>-999</td>\n",
       "    </tr>\n",
       "  </tbody>\n",
       "</table>\n",
       "<p>5 rows × 22 columns</p>\n",
       "</div>"
      ],
      "text/plain": [
       "         ID                 Name      Date  Time Event Status Latitude  \\\n",
       "0  EP101985               JIMENA  19850721   600           TD    12.8N   \n",
       "1  EP151967            PRISCILLA  19671014  1200           TS    13.4N   \n",
       "2  EP101996            GENEVIEVE  19961004  1800           TD    15.4N   \n",
       "3  CP011950                 HIKI  19500815  1200           TS    21.4N   \n",
       "4  EP051956              UNNAMED  19560712     0           HU    20.0N   \n",
       "\n",
       "  Longitude  Maximum Wind  Minimum Pressure  ...  Low Wind SW  Low Wind NW  \\\n",
       "0    107.7W            30              -999  ...         -999         -999   \n",
       "1    102.9W            45              -999  ...         -999         -999   \n",
       "2    119.5W            25              1010  ...         -999         -999   \n",
       "3    154.4W            45              -999  ...         -999         -999   \n",
       "4    122.9W            75              -999  ...         -999         -999   \n",
       "\n",
       "   Moderate Wind NE  Moderate Wind SE  Moderate Wind SW  Moderate Wind NW  \\\n",
       "0              -999              -999              -999              -999   \n",
       "1              -999              -999              -999              -999   \n",
       "2              -999              -999              -999              -999   \n",
       "3              -999              -999              -999              -999   \n",
       "4              -999              -999              -999              -999   \n",
       "\n",
       "   High Wind NE  High Wind SE  High Wind SW  High Wind NW  \n",
       "0          -999          -999          -999          -999  \n",
       "1          -999          -999          -999          -999  \n",
       "2          -999          -999          -999          -999  \n",
       "3          -999          -999          -999          -999  \n",
       "4          -999          -999          -999          -999  \n",
       "\n",
       "[5 rows x 22 columns]"
      ]
     },
     "execution_count": 101,
     "metadata": {},
     "output_type": "execute_result"
    }
   ],
   "source": [
    "data_test.head()"
   ]
  },
  {
   "cell_type": "code",
   "execution_count": 102,
   "metadata": {},
   "outputs": [],
   "source": [
    "data_X_train = data_train[[\"Date\",\"Time\",\"Maximum Wind\",\"Minimum Pressure\",\"Low Wind NE\",\"Low Wind SE\",\"Low Wind SW\",\"Low Wind NW\",\"Moderate Wind NE\",\"Moderate Wind SE\",\"Moderate Wind SW\",\"Moderate Wind NW\",\"High Wind NE\",\"High Wind SE\",\"High Wind NW\",\"High Wind SW\"]]"
   ]
  },
  {
   "cell_type": "code",
   "execution_count": 103,
   "metadata": {},
   "outputs": [],
   "source": [
    "data_y_train = data_train[\"Status\"]"
   ]
  },
  {
   "cell_type": "code",
   "execution_count": 104,
   "metadata": {},
   "outputs": [],
   "source": [
    "data_X_train = data_X_train[:10455]\n",
    "data_y_train = data_y_train[:10455]\n"
   ]
  },
  {
   "cell_type": "code",
   "execution_count": 105,
   "metadata": {},
   "outputs": [],
   "source": [
    "data_X_test = data_test[[\"Date\",\"Time\",\"Maximum Wind\",\"Minimum Pressure\",\"Low Wind NE\",\"Low Wind SE\",\"Low Wind SW\",\"Low Wind NW\",\"Moderate Wind NE\",\"Moderate Wind SE\",\"Moderate Wind SW\",\"Moderate Wind NW\",\"High Wind NE\",\"High Wind SE\",\"High Wind NW\",\"High Wind SW\"]]\n",
    "data_y_test = data_test[\"Status\"]\n"
   ]
  },
  {
   "cell_type": "code",
   "execution_count": 106,
   "metadata": {},
   "outputs": [],
   "source": [
    "from sklearn.tree import DecisionTreeClassifier\n",
    "classifier_1 = DecisionTreeClassifier(criterion = 'entropy')\n",
    "classifier_1.fit(data_X_train, data_y_train)\n",
    "z_1 = classifier_1.feature_importances_"
   ]
  },
  {
   "cell_type": "code",
   "execution_count": 107,
   "metadata": {},
   "outputs": [],
   "source": [
    "y_pred_1 = classifier_1.predict(data_X_test)\n",
    "y_pred_1 = pd.Series(y_pred_1)"
   ]
  },
  {
   "cell_type": "code",
   "execution_count": 108,
   "metadata": {},
   "outputs": [
    {
     "data": {
      "text/plain": [
       "array([[  68,    0,    0,    0,   28,    0,    0,    0,    0,    3,    0],\n",
       "       [   0,   16,    0,    1,    0,    0,    0,    0,    0,   32,    7],\n",
       "       [   0,    0,   20,    1,    5,    0,    0,    0,    0,    7,   10],\n",
       "       [   0,    1,    6, 2717,    0,    0,    0,    0,    1,    0,    0],\n",
       "       [  15,    0,    0,    0,  592,    0,    0,    0,    0,   94,   14],\n",
       "       [   0,    0,    0,    0,    1,    0,    0,    0,    0,    0,    0],\n",
       "       [   0,    0,    2,    0,    0,    0,    0,    0,    0,    0,    0],\n",
       "       [   0,    0,    0,    0,    0,    0,    0,    3,    0,    0,    0],\n",
       "       [   0,    0,    0,    1,    0,    0,    0,    0,    2,    0,    0],\n",
       "       [   2,   16,    9,    0,  106,    0,    0,    0,    0, 2618,    0],\n",
       "       [   0,    4,   10,    2,    6,    2,    0,    0,    0,    1, 4032]],\n",
       "      dtype=int64)"
      ]
     },
     "execution_count": 108,
     "metadata": {},
     "output_type": "execute_result"
    }
   ],
   "source": [
    "from sklearn.metrics import confusion_matrix\n",
    "cm_1 = confusion_matrix(data_y_test, y_pred_1)\n",
    "cm_1"
   ]
  },
  {
   "cell_type": "code",
   "execution_count": 109,
   "metadata": {},
   "outputs": [
    {
     "data": {
      "text/plain": [
       "0.9629842180774749"
      ]
     },
     "execution_count": 109,
     "metadata": {},
     "output_type": "execute_result"
    }
   ],
   "source": [
    "from sklearn.metrics import accuracy_score\n",
    "acc_1 = accuracy_score(data_y_test, y_pred_1)\n",
    "acc_1"
   ]
  },
  {
   "cell_type": "code",
   "execution_count": 110,
   "metadata": {},
   "outputs": [
    {
     "data": {
      "text/plain": [
       "0.624990356516892"
      ]
     },
     "execution_count": 110,
     "metadata": {},
     "output_type": "execute_result"
    }
   ],
   "source": [
    "from sklearn.metrics import recall_score\n",
    "rs_1 = recall_score(data_y_test, y_pred_1, average = 'macro')\n",
    "rs_1"
   ]
  },
  {
   "cell_type": "code",
   "execution_count": 111,
   "metadata": {},
   "outputs": [
    {
     "name": "stderr",
     "output_type": "stream",
     "text": [
      "C:\\Users\\hp\\Anaconda3\\lib\\site-packages\\sklearn\\metrics\\classification.py:1437: UndefinedMetricWarning: Precision is ill-defined and being set to 0.0 in labels with no predicted samples.\n",
      "  'precision', 'predicted', average, warn_for)\n"
     ]
    },
    {
     "data": {
      "text/plain": [
       "0.6425095048326764"
      ]
     },
     "execution_count": 111,
     "metadata": {},
     "output_type": "execute_result"
    }
   ],
   "source": [
    "from sklearn.metrics import precision_score\n",
    "pr_1 = precision_score(data_y_test, y_pred_1, average = 'macro')\n",
    "pr_1"
   ]
  },
  {
   "cell_type": "code",
   "execution_count": 112,
   "metadata": {},
   "outputs": [
    {
     "name": "stderr",
     "output_type": "stream",
     "text": [
      "C:\\Users\\hp\\Anaconda3\\lib\\site-packages\\sklearn\\model_selection\\_split.py:657: Warning: The least populated class in y has only 1 members, which is too few. The minimum number of members in any class cannot be less than n_splits=10.\n",
      "  % (min_groups, self.n_splits)), Warning)\n"
     ]
    },
    {
     "data": {
      "text/plain": [
       "0.9594471599823928"
      ]
     },
     "execution_count": 112,
     "metadata": {},
     "output_type": "execute_result"
    }
   ],
   "source": [
    "# Applying k-fold cross validation for DecisionTreeClassifier\n",
    "from sklearn.model_selection import cross_val_score\n",
    "accuracies_1 = cross_val_score(estimator = classifier_1, X = data_X_train, y = data_y_train, cv = 10, n_jobs = -1)\n",
    "accuracies_1.mean()"
   ]
  },
  {
   "cell_type": "code",
   "execution_count": 113,
   "metadata": {},
   "outputs": [
    {
     "data": {
      "text/plain": [
       "0.003691783501506388"
      ]
     },
     "execution_count": 113,
     "metadata": {},
     "output_type": "execute_result"
    }
   ],
   "source": [
    "accuracies_1.std()"
   ]
  },
  {
   "cell_type": "code",
   "execution_count": 114,
   "metadata": {},
   "outputs": [
    {
     "data": {
      "text/plain": [
       "array([0.11099704, 0.00825493, 0.63508267, 0.11066561, 0.02286854,\n",
       "       0.01618185, 0.01156324, 0.01522813, 0.00579084, 0.0056302 ,\n",
       "       0.00576298, 0.00532068, 0.01795081, 0.01215406, 0.01071682,\n",
       "       0.0058316 ])"
      ]
     },
     "execution_count": 114,
     "metadata": {},
     "output_type": "execute_result"
    }
   ],
   "source": [
    "# Fitting RandomForestClassifier onto the data\n",
    "from sklearn.ensemble import RandomForestClassifier\n",
    "classifier_2 = RandomForestClassifier(n_estimators = 1000, criterion = 'entropy')\n",
    "classifier_2.fit(data_X_train, data_y_train)\n",
    "z_2 = classifier_2.feature_importances_\n",
    "z_2"
   ]
  },
  {
   "cell_type": "code",
   "execution_count": 115,
   "metadata": {},
   "outputs": [],
   "source": [
    "# Predicting the test values by RandomForestClassifier\n",
    "y_pred_2 = classifier_2.predict(data_X_test)"
   ]
  },
  {
   "cell_type": "code",
   "execution_count": 116,
   "metadata": {},
   "outputs": [],
   "source": [
    "y_pred_2 = pd.Series(y_pred_2)"
   ]
  },
  {
   "cell_type": "code",
   "execution_count": 117,
   "metadata": {},
   "outputs": [
    {
     "data": {
      "text/plain": [
       "array([[  44,    0,    0,    0,   50,    0,    0,    0,    0,    5,    0],\n",
       "       [   0,    3,    0,    1,    0,    0,    0,    0,    0,   45,    7],\n",
       "       [   0,    0,   10,    2,    5,    0,    0,    0,    0,   15,   11],\n",
       "       [   0,    0,    0, 2725,    0,    0,    0,    0,    0,    0,    0],\n",
       "       [  14,    0,    0,    0,  559,    0,    0,    0,    0,  126,   16],\n",
       "       [   0,    0,    0,    0,    1,    0,    0,    0,    0,    0,    0],\n",
       "       [   0,    0,    0,    0,    0,    1,    0,    0,    0,    1,    0],\n",
       "       [   0,    0,    0,    0,    0,    0,    0,    2,    0,    0,    1],\n",
       "       [   0,    0,    0,    1,    0,    0,    0,    0,    2,    0,    0],\n",
       "       [   2,   14,    2,    0,  101,    0,    0,    0,    0, 2632,    0],\n",
       "       [   0,    2,    8,    2,    0,    1,    0,    0,    0,    0, 4044]],\n",
       "      dtype=int64)"
      ]
     },
     "execution_count": 117,
     "metadata": {},
     "output_type": "execute_result"
    }
   ],
   "source": [
    "# Evaluating by confusion matrix for RandomForestClassifier\n",
    "from sklearn.metrics import confusion_matrix\n",
    "cm_2 = confusion_matrix(data_y_test, y_pred_2)\n",
    "cm_2"
   ]
  },
  {
   "cell_type": "code",
   "execution_count": 118,
   "metadata": {},
   "outputs": [
    {
     "data": {
      "text/plain": [
       "0.9584887613582018"
      ]
     },
     "execution_count": 118,
     "metadata": {},
     "output_type": "execute_result"
    }
   ],
   "source": [
    "from sklearn.metrics import accuracy_score\n",
    "acc_2 = accuracy_score(data_y_test, y_pred_2)\n",
    "acc_2"
   ]
  },
  {
   "cell_type": "code",
   "execution_count": 119,
   "metadata": {},
   "outputs": [
    {
     "data": {
      "text/plain": [
       "0.5272058356423526"
      ]
     },
     "execution_count": 119,
     "metadata": {},
     "output_type": "execute_result"
    }
   ],
   "source": [
    "from sklearn.metrics import recall_score\n",
    "rs_2 = recall_score(data_y_test, y_pred_2, average = 'macro')\n",
    "rs_2"
   ]
  },
  {
   "cell_type": "code",
   "execution_count": 120,
   "metadata": {},
   "outputs": [
    {
     "name": "stderr",
     "output_type": "stream",
     "text": [
      "C:\\Users\\hp\\Anaconda3\\lib\\site-packages\\sklearn\\metrics\\classification.py:1437: UndefinedMetricWarning: Precision is ill-defined and being set to 0.0 in labels with no predicted samples.\n",
      "  'precision', 'predicted', average, warn_for)\n"
     ]
    },
    {
     "data": {
      "text/plain": [
       "0.644835284247444"
      ]
     },
     "execution_count": 120,
     "metadata": {},
     "output_type": "execute_result"
    }
   ],
   "source": [
    "from sklearn.metrics import precision_score\n",
    "pr_2 = precision_score(data_y_test, y_pred_2, average = 'macro')\n",
    "pr_2"
   ]
  },
  {
   "cell_type": "code",
   "execution_count": 121,
   "metadata": {},
   "outputs": [
    {
     "name": "stderr",
     "output_type": "stream",
     "text": [
      "C:\\Users\\hp\\Anaconda3\\lib\\site-packages\\sklearn\\model_selection\\_split.py:657: Warning: The least populated class in y has only 1 members, which is too few. The minimum number of members in any class cannot be less than n_splits=10.\n",
      "  % (min_groups, self.n_splits)), Warning)\n"
     ]
    },
    {
     "data": {
      "text/plain": [
       "0.9524681919679481"
      ]
     },
     "execution_count": 121,
     "metadata": {},
     "output_type": "execute_result"
    }
   ],
   "source": [
    "# Applying k-fold cross validation for RandomForestClassifier\n",
    "from sklearn.model_selection import cross_val_score\n",
    "accuracies_2 = cross_val_score(estimator = classifier_2, X = data_X_train, y = data_y_train, cv = 10, n_jobs = -1)\n",
    "accuracies_2.mean()"
   ]
  },
  {
   "cell_type": "code",
   "execution_count": 122,
   "metadata": {},
   "outputs": [
    {
     "data": {
      "text/plain": [
       "0.006279009098261317"
      ]
     },
     "execution_count": 122,
     "metadata": {},
     "output_type": "execute_result"
    }
   ],
   "source": [
    "accuracies_2.std()"
   ]
  },
  {
   "cell_type": "code",
   "execution_count": 136,
   "metadata": {},
   "outputs": [
    {
     "data": {
      "text/plain": [
       "GaussianNB(priors=None, var_smoothing=1e-09)"
      ]
     },
     "execution_count": 136,
     "metadata": {},
     "output_type": "execute_result"
    }
   ],
   "source": [
    "# Fitting the NaiveBayesClassifier onto the data\n",
    "from sklearn.naive_bayes import GaussianNB\n",
    "classifier_3 = GaussianNB()\n",
    "classifier_3.fit(data_X_train, data_y_train)\n"
   ]
  },
  {
   "cell_type": "code",
   "execution_count": 137,
   "metadata": {},
   "outputs": [],
   "source": [
    "# Predicting the test values by NaiveBayesClassifier\n",
    "y_pred_3 = classifier_3.predict(data_X_test)"
   ]
  },
  {
   "cell_type": "code",
   "execution_count": 138,
   "metadata": {},
   "outputs": [],
   "source": [
    "y_pred_3 = pd.Series(y_pred_3)"
   ]
  },
  {
   "cell_type": "code",
   "execution_count": 139,
   "metadata": {},
   "outputs": [
    {
     "data": {
      "text/plain": [
       "array([[  99,    0,    0,    0,    0,    0,    0,    0,    0,    0,    0],\n",
       "       [   0,   56,    0,    0,    0,    0,    0,    0,    0,    0,    0],\n",
       "       [  10,   29,    0,    0,    4,    0,    0,    0,    0,    0,    0],\n",
       "       [   0, 2221,    0,  278,  225,    0,    0,    0,    1,    0,    0],\n",
       "       [ 660,   42,    0,    0,   13,    0,    0,    0,    0,    0,    0],\n",
       "       [   1,    0,    0,    0,    0,    0,    0,    0,    0,    0,    0],\n",
       "       [   2,    0,    0,    0,    0,    0,    0,    0,    0,    0,    0],\n",
       "       [   0,    0,    0,    0,    0,    0,    0,    3,    0,    0,    0],\n",
       "       [   0,    0,    0,    3,    0,    0,    0,    0,    0,    0,    0],\n",
       "       [ 434, 2317,    0,    0,    0,    0,    0,    0,    0,    0,    0],\n",
       "       [  40, 3224,    0,    0,  791,    2,    0,    0,    0,    0,    0]],\n",
       "      dtype=int64)"
      ]
     },
     "execution_count": 139,
     "metadata": {},
     "output_type": "execute_result"
    }
   ],
   "source": [
    "# Evaluating by confusion matrix for NaiveBayesClassifier\n",
    "from sklearn.metrics import confusion_matrix\n",
    "cm_3 = confusion_matrix(data_y_test, y_pred_3)\n",
    "cm_3"
   ]
  },
  {
   "cell_type": "code",
   "execution_count": 140,
   "metadata": {},
   "outputs": [
    {
     "data": {
      "text/plain": [
       "0.04294595887135342"
      ]
     },
     "execution_count": 140,
     "metadata": {},
     "output_type": "execute_result"
    }
   ],
   "source": [
    "from sklearn.metrics import accuracy_score\n",
    "acc_3 = accuracy_score(data_y_test, y_pred_3)\n",
    "acc_3"
   ]
  },
  {
   "cell_type": "code",
   "execution_count": 141,
   "metadata": {},
   "outputs": [
    {
     "data": {
      "text/plain": [
       "0.28365456061869737"
      ]
     },
     "execution_count": 141,
     "metadata": {},
     "output_type": "execute_result"
    }
   ],
   "source": [
    "from sklearn.metrics import recall_score\n",
    "rs_3 = recall_score(data_y_test, y_pred_3, average = 'macro')\n",
    "rs_3"
   ]
  },
  {
   "cell_type": "code",
   "execution_count": 142,
   "metadata": {},
   "outputs": [
    {
     "name": "stderr",
     "output_type": "stream",
     "text": [
      "C:\\Users\\hp\\Anaconda3\\lib\\site-packages\\sklearn\\metrics\\classification.py:1437: UndefinedMetricWarning: Precision is ill-defined and being set to 0.0 in labels with no predicted samples.\n",
      "  'precision', 'predicted', average, warn_for)\n"
     ]
    },
    {
     "data": {
      "text/plain": [
       "0.1898601175765395"
      ]
     },
     "execution_count": 142,
     "metadata": {},
     "output_type": "execute_result"
    }
   ],
   "source": [
    "from sklearn.metrics import precision_score\n",
    "pr_3 = precision_score(data_y_test, y_pred_3, average = 'macro')\n",
    "pr_3"
   ]
  },
  {
   "cell_type": "code",
   "execution_count": 143,
   "metadata": {},
   "outputs": [
    {
     "name": "stderr",
     "output_type": "stream",
     "text": [
      "C:\\Users\\hp\\Anaconda3\\lib\\site-packages\\sklearn\\model_selection\\_split.py:657: Warning: The least populated class in y has only 1 members, which is too few. The minimum number of members in any class cannot be less than n_splits=10.\n",
      "  % (min_groups, self.n_splits)), Warning)\n"
     ]
    },
    {
     "data": {
      "text/plain": [
       "0.044191499133065505"
      ]
     },
     "execution_count": 143,
     "metadata": {},
     "output_type": "execute_result"
    }
   ],
   "source": [
    "# Applying k-fold cross validation for NaiveBayesClassifier\n",
    "from sklearn.model_selection import cross_val_score\n",
    "accuracies_3 = cross_val_score(estimator = classifier_3, X = data_X_train, y = data_y_train, cv = 10, n_jobs = -1)\n",
    "accuracies_3.mean()"
   ]
  },
  {
   "cell_type": "code",
   "execution_count": 144,
   "metadata": {},
   "outputs": [
    {
     "data": {
      "text/plain": [
       "0.009330993785902537"
      ]
     },
     "execution_count": 144,
     "metadata": {},
     "output_type": "execute_result"
    }
   ],
   "source": [
    "accuracies_3.std()"
   ]
  },
  {
   "cell_type": "code",
   "execution_count": 150,
   "metadata": {},
   "outputs": [
    {
     "data": {
      "text/plain": [
       "SVC(C=1.0, cache_size=1000, class_weight=None, coef0=0.0,\n",
       "    decision_function_shape='ovr', degree=3, gamma='auto', kernel='rbf',\n",
       "    max_iter=-1, probability=False, random_state=None, shrinking=True,\n",
       "    tol=0.001, verbose=False)"
      ]
     },
     "execution_count": 150,
     "metadata": {},
     "output_type": "execute_result"
    }
   ],
   "source": [
    "# Fitting SVM Gaussian kernel onto the data\n",
    "from sklearn.svm import SVC\n",
    "classifier_4 = SVC(kernel = 'rbf', gamma = 'auto', cache_size = 1000)\n",
    "classifier_4.fit(data_X_train, data_y_train)\n",
    "#z_4 = classifier_4.feature_importances_"
   ]
  },
  {
   "cell_type": "code",
   "execution_count": 151,
   "metadata": {},
   "outputs": [],
   "source": [
    "y_pred_4 = classifier_4.predict(data_X_test)\n",
    "y_pred_4 = pd.Series(y_pred_4)"
   ]
  },
  {
   "cell_type": "code",
   "execution_count": 152,
   "metadata": {},
   "outputs": [
    {
     "data": {
      "text/plain": [
       "array([[  23,    0,    0,    0,   14,    0,    0,    0,    0,   10,   52],\n",
       "       [   0,    0,    0,    1,    0,    0,    0,    0,    0,   10,   45],\n",
       "       [   0,    0,    0,    2,    0,    0,    0,    0,    0,    4,   37],\n",
       "       [   0,    0,    0,  658,    0,    0,    0,    0,    0,    0, 2067],\n",
       "       [   5,    0,    0,    0,  176,    0,    0,    0,    0,   63,  471],\n",
       "       [   0,    0,    0,    0,    0,    0,    0,    0,    0,    0,    1],\n",
       "       [   0,    0,    0,    0,    0,    0,    0,    0,    0,    0,    2],\n",
       "       [   0,    0,    0,    0,    0,    0,    0,    0,    0,    0,    3],\n",
       "       [   0,    0,    0,    0,    0,    0,    0,    0,    0,    0,    3],\n",
       "       [   1,    0,    1,    0,   30,    0,    0,    0,    0, 1160, 1559],\n",
       "       [   0,    0,    0,    0,    0,    0,    0,    0,    0,    2, 4055]],\n",
       "      dtype=int64)"
      ]
     },
     "execution_count": 152,
     "metadata": {},
     "output_type": "execute_result"
    }
   ],
   "source": [
    "# Evaluating by confusion matrix for SVM Gaussian kernel\n",
    "from sklearn.metrics import confusion_matrix\n",
    "cm_4 = confusion_matrix(data_y_test, y_pred_4)\n",
    "cm_4"
   ]
  },
  {
   "cell_type": "code",
   "execution_count": 153,
   "metadata": {},
   "outputs": [
    {
     "data": {
      "text/plain": [
       "0.5807747489239599"
      ]
     },
     "execution_count": 153,
     "metadata": {},
     "output_type": "execute_result"
    }
   ],
   "source": [
    "from sklearn.metrics import accuracy_score\n",
    "acc_4 = accuracy_score(data_y_test, y_pred_4)\n",
    "acc_4"
   ]
  },
  {
   "cell_type": "code",
   "execution_count": 154,
   "metadata": {},
   "outputs": [
    {
     "data": {
      "text/plain": [
       "0.1946469856751221"
      ]
     },
     "execution_count": 154,
     "metadata": {},
     "output_type": "execute_result"
    }
   ],
   "source": [
    "from sklearn.metrics import recall_score\n",
    "rs_4 = recall_score(data_y_test, y_pred_4, average = 'macro')\n",
    "rs_4"
   ]
  },
  {
   "cell_type": "code",
   "execution_count": 155,
   "metadata": {},
   "outputs": [
    {
     "name": "stderr",
     "output_type": "stream",
     "text": [
      "C:\\Users\\hp\\Anaconda3\\lib\\site-packages\\sklearn\\metrics\\classification.py:1437: UndefinedMetricWarning: Precision is ill-defined and being set to 0.0 in labels with no predicted samples.\n",
      "  'precision', 'predicted', average, warn_for)\n"
     ]
    },
    {
     "data": {
      "text/plain": [
       "0.3641960517088819"
      ]
     },
     "execution_count": 155,
     "metadata": {},
     "output_type": "execute_result"
    }
   ],
   "source": [
    "from sklearn.metrics import precision_score\n",
    "pr_4 = precision_score(data_y_test, y_pred_4, average = 'macro')\n",
    "pr_4"
   ]
  },
  {
   "cell_type": "code",
   "execution_count": 156,
   "metadata": {},
   "outputs": [
    {
     "name": "stderr",
     "output_type": "stream",
     "text": [
      "C:\\Users\\hp\\Anaconda3\\lib\\site-packages\\sklearn\\model_selection\\_split.py:657: Warning: The least populated class in y has only 1 members, which is too few. The minimum number of members in any class cannot be less than n_splits=10.\n",
      "  % (min_groups, self.n_splits)), Warning)\n"
     ]
    },
    {
     "data": {
      "text/plain": [
       "0.5560214374737902"
      ]
     },
     "execution_count": 156,
     "metadata": {},
     "output_type": "execute_result"
    }
   ],
   "source": [
    "# Applying k-fold cross validation for SVM Gaussian kernel\n",
    "from sklearn.model_selection import cross_val_score\n",
    "accuracies_4 = cross_val_score(estimator = classifier_4, X = data_X_train, y = data_y_train, cv = 10, n_jobs = -1)\n",
    "accuracies_4.mean()"
   ]
  },
  {
   "cell_type": "code",
   "execution_count": 157,
   "metadata": {},
   "outputs": [
    {
     "data": {
      "text/plain": [
       "0.015219990980562764"
      ]
     },
     "execution_count": 157,
     "metadata": {},
     "output_type": "execute_result"
    }
   ],
   "source": [
    "accuracies_4.std()"
   ]
  },
  {
   "cell_type": "code",
   "execution_count": null,
   "metadata": {},
   "outputs": [],
   "source": []
  }
 ],
 "metadata": {
  "kernelspec": {
   "display_name": "Python 3",
   "language": "python",
   "name": "python3"
  },
  "language_info": {
   "codemirror_mode": {
    "name": "ipython",
    "version": 3
   },
   "file_extension": ".py",
   "mimetype": "text/x-python",
   "name": "python",
   "nbconvert_exporter": "python",
   "pygments_lexer": "ipython3",
   "version": "3.7.3"
  }
 },
 "nbformat": 4,
 "nbformat_minor": 2
}
